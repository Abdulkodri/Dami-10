{
 "cells": [
  {
   "cell_type": "markdown",
   "id": "c14b1908",
   "metadata": {},
   "source": [
    "# PREDICTING A PULSAR STAR\n",
    "\n",
    "Pulsars are a rare type of Neutron star that produce radio emission detectable here on Earth. They are of considerable scientific interest as probes of space-time, the inter-stellar medium, and states of matter . Neutron stars are very dense, and have short, regular rotational periods. This produces a very precise interval between pulses that ranges from milliseconds to seconds for an individual pulsar. Pulsars are believed to be one of the candidates for the source of ultra-high-energy cosmic rays.\n",
    "\n",
    "In this kernel, I will predict whether a star is a pulsar star with different machine learning algorithms(LogisticRegression,GaussianNB,KNeighborsClassifier and Suport Vector Machine)."
   ]
  },
  {
   "cell_type": "code",
   "execution_count": 81,
   "id": "99d6ba43",
   "metadata": {},
   "outputs": [],
   "source": [
    "#Importing the require library\n",
    "import pandas as pd\n",
    "import numpy as np\n",
    "from sklearn.metrics import accuracy_score\n",
    "from sklearn.metrics import confusion_matrix\n",
    "from sklearn.metrics import mean_squared_error\n",
    "from sklearn.metrics import classification_report\n",
    "from sklearn.model_selection import train_test_split\n",
    "from sklearn.model_selection import GridSearchCV\n",
    "from sklearn.linear_model import LogisticRegression\n",
    "from sklearn.naive_bayes import GaussianNB\n",
    "from sklearn.neighbors import KNeighborsClassifier\n",
    "from sklearn.svm import SVC\n",
    "import matplotlib.pyplot as plt\n",
    "import seaborn as sns\n",
    "%matplotlib inline\n",
    "import warnings \n",
    "warnings.filterwarnings(\"ignore\")"
   ]
  },
  {
   "cell_type": "code",
   "execution_count": 82,
   "id": "c52e7062",
   "metadata": {},
   "outputs": [
    {
     "data": {
      "text/html": [
       "<div>\n",
       "<style scoped>\n",
       "    .dataframe tbody tr th:only-of-type {\n",
       "        vertical-align: middle;\n",
       "    }\n",
       "\n",
       "    .dataframe tbody tr th {\n",
       "        vertical-align: top;\n",
       "    }\n",
       "\n",
       "    .dataframe thead th {\n",
       "        text-align: right;\n",
       "    }\n",
       "</style>\n",
       "<table border=\"1\" class=\"dataframe\">\n",
       "  <thead>\n",
       "    <tr style=\"text-align: right;\">\n",
       "      <th></th>\n",
       "      <th>140.5625</th>\n",
       "      <th>55.68378214</th>\n",
       "      <th>-0.234571412</th>\n",
       "      <th>-0.699648398</th>\n",
       "      <th>3.199832776</th>\n",
       "      <th>19.11042633</th>\n",
       "      <th>7.975531794</th>\n",
       "      <th>74.24222492</th>\n",
       "      <th>0</th>\n",
       "    </tr>\n",
       "  </thead>\n",
       "  <tbody>\n",
       "    <tr>\n",
       "      <th>0</th>\n",
       "      <td>102.507812</td>\n",
       "      <td>58.882430</td>\n",
       "      <td>0.465318</td>\n",
       "      <td>-0.515088</td>\n",
       "      <td>1.677258</td>\n",
       "      <td>14.860146</td>\n",
       "      <td>10.576487</td>\n",
       "      <td>127.393580</td>\n",
       "      <td>0</td>\n",
       "    </tr>\n",
       "    <tr>\n",
       "      <th>1</th>\n",
       "      <td>103.015625</td>\n",
       "      <td>39.341649</td>\n",
       "      <td>0.323328</td>\n",
       "      <td>1.051164</td>\n",
       "      <td>3.121237</td>\n",
       "      <td>21.744669</td>\n",
       "      <td>7.735822</td>\n",
       "      <td>63.171909</td>\n",
       "      <td>0</td>\n",
       "    </tr>\n",
       "    <tr>\n",
       "      <th>2</th>\n",
       "      <td>136.750000</td>\n",
       "      <td>57.178449</td>\n",
       "      <td>-0.068415</td>\n",
       "      <td>-0.636238</td>\n",
       "      <td>3.642977</td>\n",
       "      <td>20.959280</td>\n",
       "      <td>6.896499</td>\n",
       "      <td>53.593661</td>\n",
       "      <td>0</td>\n",
       "    </tr>\n",
       "    <tr>\n",
       "      <th>3</th>\n",
       "      <td>88.726562</td>\n",
       "      <td>40.672225</td>\n",
       "      <td>0.600866</td>\n",
       "      <td>1.123492</td>\n",
       "      <td>1.178930</td>\n",
       "      <td>11.468720</td>\n",
       "      <td>14.269573</td>\n",
       "      <td>252.567306</td>\n",
       "      <td>0</td>\n",
       "    </tr>\n",
       "    <tr>\n",
       "      <th>4</th>\n",
       "      <td>93.570312</td>\n",
       "      <td>46.698114</td>\n",
       "      <td>0.531905</td>\n",
       "      <td>0.416721</td>\n",
       "      <td>1.636288</td>\n",
       "      <td>14.545074</td>\n",
       "      <td>10.621748</td>\n",
       "      <td>131.394004</td>\n",
       "      <td>0</td>\n",
       "    </tr>\n",
       "  </tbody>\n",
       "</table>\n",
       "</div>"
      ],
      "text/plain": [
       "     140.5625  55.68378214  -0.234571412  -0.699648398  3.199832776  \\\n",
       "0  102.507812    58.882430      0.465318     -0.515088     1.677258   \n",
       "1  103.015625    39.341649      0.323328      1.051164     3.121237   \n",
       "2  136.750000    57.178449     -0.068415     -0.636238     3.642977   \n",
       "3   88.726562    40.672225      0.600866      1.123492     1.178930   \n",
       "4   93.570312    46.698114      0.531905      0.416721     1.636288   \n",
       "\n",
       "   19.11042633  7.975531794  74.24222492  0  \n",
       "0    14.860146    10.576487   127.393580  0  \n",
       "1    21.744669     7.735822    63.171909  0  \n",
       "2    20.959280     6.896499    53.593661  0  \n",
       "3    11.468720    14.269573   252.567306  0  \n",
       "4    14.545074    10.621748   131.394004  0  "
      ]
     },
     "execution_count": 82,
     "metadata": {},
     "output_type": "execute_result"
    }
   ],
   "source": [
    "#Import the dataset\n",
    "df_data=pd.read_csv(\"HTRU_2.csv\")\n",
    "df_data.head()"
   ]
  },
  {
   "cell_type": "code",
   "execution_count": 83,
   "id": "fe50a756",
   "metadata": {},
   "outputs": [
    {
     "data": {
      "text/plain": [
       "Index(['Mean of IP', 'STD of IP', 'Excess kurtosis of the IP',\n",
       "       'Skewness of the IP', 'Mean of the DM-SNR curve',\n",
       "       'STD of the DM-SNR CURVE', 'EXCESS Kurtosis of the DM_SNR curve',\n",
       "       'Skewness of the DM-SNR curve', 'target_class'],\n",
       "      dtype='object')"
      ]
     },
     "execution_count": 83,
     "metadata": {},
     "output_type": "execute_result"
    }
   ],
   "source": [
    "#Assigning name to the column\n",
    "df_data.columns=[\"Mean of IP\",\"STD of IP\",\"Excess kurtosis of the IP\",\"Skewness of the IP\",\"Mean of the DM-SNR curve\",\"STD of the DM-SNR CURVE\",\"EXCESS Kurtosis of the DM_SNR curve\",\"Skewness of the DM-SNR curve\",\"target_class\"]\n",
    "df_data.columns"
   ]
  },
  {
   "cell_type": "code",
   "execution_count": 84,
   "id": "024b4679",
   "metadata": {},
   "outputs": [
    {
     "name": "stdout",
     "output_type": "stream",
     "text": [
      "<class 'pandas.core.frame.DataFrame'>\n",
      "RangeIndex: 17897 entries, 0 to 17896\n",
      "Data columns (total 9 columns):\n",
      " #   Column                               Non-Null Count  Dtype  \n",
      "---  ------                               --------------  -----  \n",
      " 0   Mean of IP                           17897 non-null  float64\n",
      " 1   STD of IP                            17897 non-null  float64\n",
      " 2   Excess kurtosis of the IP            17897 non-null  float64\n",
      " 3   Skewness of the IP                   17897 non-null  float64\n",
      " 4   Mean of the DM-SNR curve             17897 non-null  float64\n",
      " 5   STD of the DM-SNR CURVE              17897 non-null  float64\n",
      " 6   EXCESS Kurtosis of the DM_SNR curve  17897 non-null  float64\n",
      " 7   Skewness of the DM-SNR curve         17897 non-null  float64\n",
      " 8   target_class                         17897 non-null  int64  \n",
      "dtypes: float64(8), int64(1)\n",
      "memory usage: 1.2 MB\n"
     ]
    }
   ],
   "source": [
    "#Data descrition\n",
    "df_data.info()"
   ]
  },
  {
   "cell_type": "code",
   "execution_count": 85,
   "id": "f234b6c9",
   "metadata": {},
   "outputs": [
    {
     "data": {
      "text/plain": [
       "(17897, 9)"
      ]
     },
     "execution_count": 85,
     "metadata": {},
     "output_type": "execute_result"
    }
   ],
   "source": [
    "df_data.shape"
   ]
  },
  {
   "cell_type": "code",
   "execution_count": 86,
   "id": "547cec33",
   "metadata": {},
   "outputs": [
    {
     "data": {
      "text/html": [
       "<div>\n",
       "<style scoped>\n",
       "    .dataframe tbody tr th:only-of-type {\n",
       "        vertical-align: middle;\n",
       "    }\n",
       "\n",
       "    .dataframe tbody tr th {\n",
       "        vertical-align: top;\n",
       "    }\n",
       "\n",
       "    .dataframe thead th {\n",
       "        text-align: right;\n",
       "    }\n",
       "</style>\n",
       "<table border=\"1\" class=\"dataframe\">\n",
       "  <thead>\n",
       "    <tr style=\"text-align: right;\">\n",
       "      <th></th>\n",
       "      <th>Mean of IP</th>\n",
       "      <th>STD of IP</th>\n",
       "      <th>Excess kurtosis of the IP</th>\n",
       "      <th>Skewness of the IP</th>\n",
       "      <th>Mean of the DM-SNR curve</th>\n",
       "      <th>STD of the DM-SNR CURVE</th>\n",
       "      <th>EXCESS Kurtosis of the DM_SNR curve</th>\n",
       "      <th>Skewness of the DM-SNR curve</th>\n",
       "      <th>target_class</th>\n",
       "    </tr>\n",
       "  </thead>\n",
       "  <tbody>\n",
       "    <tr>\n",
       "      <th>0</th>\n",
       "      <td>102.507812</td>\n",
       "      <td>58.882430</td>\n",
       "      <td>0.465318</td>\n",
       "      <td>-0.515088</td>\n",
       "      <td>1.677258</td>\n",
       "      <td>14.860146</td>\n",
       "      <td>10.576487</td>\n",
       "      <td>127.393580</td>\n",
       "      <td>0</td>\n",
       "    </tr>\n",
       "    <tr>\n",
       "      <th>1</th>\n",
       "      <td>103.015625</td>\n",
       "      <td>39.341649</td>\n",
       "      <td>0.323328</td>\n",
       "      <td>1.051164</td>\n",
       "      <td>3.121237</td>\n",
       "      <td>21.744669</td>\n",
       "      <td>7.735822</td>\n",
       "      <td>63.171909</td>\n",
       "      <td>0</td>\n",
       "    </tr>\n",
       "    <tr>\n",
       "      <th>2</th>\n",
       "      <td>136.750000</td>\n",
       "      <td>57.178449</td>\n",
       "      <td>-0.068415</td>\n",
       "      <td>-0.636238</td>\n",
       "      <td>3.642977</td>\n",
       "      <td>20.959280</td>\n",
       "      <td>6.896499</td>\n",
       "      <td>53.593661</td>\n",
       "      <td>0</td>\n",
       "    </tr>\n",
       "    <tr>\n",
       "      <th>3</th>\n",
       "      <td>88.726562</td>\n",
       "      <td>40.672225</td>\n",
       "      <td>0.600866</td>\n",
       "      <td>1.123492</td>\n",
       "      <td>1.178930</td>\n",
       "      <td>11.468720</td>\n",
       "      <td>14.269573</td>\n",
       "      <td>252.567306</td>\n",
       "      <td>0</td>\n",
       "    </tr>\n",
       "    <tr>\n",
       "      <th>4</th>\n",
       "      <td>93.570312</td>\n",
       "      <td>46.698114</td>\n",
       "      <td>0.531905</td>\n",
       "      <td>0.416721</td>\n",
       "      <td>1.636288</td>\n",
       "      <td>14.545074</td>\n",
       "      <td>10.621748</td>\n",
       "      <td>131.394004</td>\n",
       "      <td>0</td>\n",
       "    </tr>\n",
       "  </tbody>\n",
       "</table>\n",
       "</div>"
      ],
      "text/plain": [
       "   Mean of IP  STD of IP  Excess kurtosis of the IP  Skewness of the IP  \\\n",
       "0  102.507812  58.882430                   0.465318           -0.515088   \n",
       "1  103.015625  39.341649                   0.323328            1.051164   \n",
       "2  136.750000  57.178449                  -0.068415           -0.636238   \n",
       "3   88.726562  40.672225                   0.600866            1.123492   \n",
       "4   93.570312  46.698114                   0.531905            0.416721   \n",
       "\n",
       "   Mean of the DM-SNR curve  STD of the DM-SNR CURVE  \\\n",
       "0                  1.677258                14.860146   \n",
       "1                  3.121237                21.744669   \n",
       "2                  3.642977                20.959280   \n",
       "3                  1.178930                11.468720   \n",
       "4                  1.636288                14.545074   \n",
       "\n",
       "   EXCESS Kurtosis of the DM_SNR curve  Skewness of the DM-SNR curve  \\\n",
       "0                            10.576487                    127.393580   \n",
       "1                             7.735822                     63.171909   \n",
       "2                             6.896499                     53.593661   \n",
       "3                            14.269573                    252.567306   \n",
       "4                            10.621748                    131.394004   \n",
       "\n",
       "   target_class  \n",
       "0             0  \n",
       "1             0  \n",
       "2             0  \n",
       "3             0  \n",
       "4             0  "
      ]
     },
     "execution_count": 86,
     "metadata": {},
     "output_type": "execute_result"
    }
   ],
   "source": [
    "df_data.head()"
   ]
  },
  {
   "cell_type": "markdown",
   "id": "e400a3e6",
   "metadata": {},
   "source": [
    "We can see that there are 9 variables in the dataset. 8 are continuous variables and 1 is discrete variable. The discrete variable is target_class variable. It is also the target variable."
   ]
  },
  {
   "cell_type": "code",
   "execution_count": 87,
   "id": "173e69da",
   "metadata": {},
   "outputs": [
    {
     "data": {
      "text/plain": [
       "0    16258\n",
       "1     1639\n",
       "Name: target_class, dtype: int64"
      ]
     },
     "execution_count": 87,
     "metadata": {},
     "output_type": "execute_result"
    }
   ],
   "source": [
    "# check distribution of target_class column\n",
    "\n",
    "df_data['target_class'].value_counts()"
   ]
  },
  {
   "cell_type": "code",
   "execution_count": 88,
   "id": "cbbbea45",
   "metadata": {},
   "outputs": [
    {
     "data": {
      "text/plain": [
       "0    0.90842\n",
       "1    0.09158\n",
       "Name: target_class, dtype: float64"
      ]
     },
     "execution_count": 88,
     "metadata": {},
     "output_type": "execute_result"
    }
   ],
   "source": [
    "# view the percentage distribution of target_class column\n",
    "\n",
    "df_data['target_class'].value_counts()/np.float(len(df_data))"
   ]
  },
  {
   "cell_type": "markdown",
   "id": "e67b46fb",
   "metadata": {},
   "source": [
    "We can see that percentage of observations of the class label 0 and 1 is 90.84% and 9.16%. So, this is a class imbalanced problem. I will deal with that in later section."
   ]
  },
  {
   "cell_type": "code",
   "execution_count": 89,
   "id": "c3fd1abf",
   "metadata": {
    "scrolled": false
   },
   "outputs": [
    {
     "name": "stdout",
     "output_type": "stream",
     "text": [
      "<class 'pandas.core.frame.DataFrame'>\n",
      "RangeIndex: 17897 entries, 0 to 17896\n",
      "Data columns (total 9 columns):\n",
      " #   Column                               Non-Null Count  Dtype  \n",
      "---  ------                               --------------  -----  \n",
      " 0   Mean of IP                           17897 non-null  float64\n",
      " 1   STD of IP                            17897 non-null  float64\n",
      " 2   Excess kurtosis of the IP            17897 non-null  float64\n",
      " 3   Skewness of the IP                   17897 non-null  float64\n",
      " 4   Mean of the DM-SNR curve             17897 non-null  float64\n",
      " 5   STD of the DM-SNR CURVE              17897 non-null  float64\n",
      " 6   EXCESS Kurtosis of the DM_SNR curve  17897 non-null  float64\n",
      " 7   Skewness of the DM-SNR curve         17897 non-null  float64\n",
      " 8   target_class                         17897 non-null  int64  \n",
      "dtypes: float64(8), int64(1)\n",
      "memory usage: 1.2 MB\n"
     ]
    }
   ],
   "source": [
    "# view summary of dataset\n",
    "\n",
    "df_data.info()"
   ]
  },
  {
   "cell_type": "code",
   "execution_count": 90,
   "id": "17b13866",
   "metadata": {},
   "outputs": [
    {
     "data": {
      "text/plain": [
       "Mean of IP                             0\n",
       "STD of IP                              0\n",
       "Excess kurtosis of the IP              0\n",
       "Skewness of the IP                     0\n",
       "Mean of the DM-SNR curve               0\n",
       "STD of the DM-SNR CURVE                0\n",
       "EXCESS Kurtosis of the DM_SNR curve    0\n",
       "Skewness of the DM-SNR curve           0\n",
       "target_class                           0\n",
       "dtype: int64"
      ]
     },
     "execution_count": 90,
     "metadata": {},
     "output_type": "execute_result"
    }
   ],
   "source": [
    "df_data.isnull().sum()"
   ]
  },
  {
   "cell_type": "markdown",
   "id": "40216561",
   "metadata": {},
   "source": [
    "We can see that there are no missing values in the dataset and all the variables are numerical variables."
   ]
  },
  {
   "cell_type": "markdown",
   "id": "107ddf41",
   "metadata": {},
   "source": [
    "# Outliers in numerical variables"
   ]
  },
  {
   "cell_type": "code",
   "execution_count": 91,
   "id": "81735bbd",
   "metadata": {},
   "outputs": [
    {
     "data": {
      "text/html": [
       "<div>\n",
       "<style scoped>\n",
       "    .dataframe tbody tr th:only-of-type {\n",
       "        vertical-align: middle;\n",
       "    }\n",
       "\n",
       "    .dataframe tbody tr th {\n",
       "        vertical-align: top;\n",
       "    }\n",
       "\n",
       "    .dataframe thead th {\n",
       "        text-align: right;\n",
       "    }\n",
       "</style>\n",
       "<table border=\"1\" class=\"dataframe\">\n",
       "  <thead>\n",
       "    <tr style=\"text-align: right;\">\n",
       "      <th></th>\n",
       "      <th>Mean of IP</th>\n",
       "      <th>STD of IP</th>\n",
       "      <th>Excess kurtosis of the IP</th>\n",
       "      <th>Skewness of the IP</th>\n",
       "      <th>Mean of the DM-SNR curve</th>\n",
       "      <th>STD of the DM-SNR CURVE</th>\n",
       "      <th>EXCESS Kurtosis of the DM_SNR curve</th>\n",
       "      <th>Skewness of the DM-SNR curve</th>\n",
       "      <th>target_class</th>\n",
       "    </tr>\n",
       "  </thead>\n",
       "  <tbody>\n",
       "    <tr>\n",
       "      <th>count</th>\n",
       "      <td>17897.00</td>\n",
       "      <td>17897.00</td>\n",
       "      <td>17897.00</td>\n",
       "      <td>17897.00</td>\n",
       "      <td>17897.00</td>\n",
       "      <td>17897.00</td>\n",
       "      <td>17897.00</td>\n",
       "      <td>17897.00</td>\n",
       "      <td>17897.00</td>\n",
       "    </tr>\n",
       "    <tr>\n",
       "      <th>mean</th>\n",
       "      <td>111.08</td>\n",
       "      <td>46.55</td>\n",
       "      <td>0.48</td>\n",
       "      <td>1.77</td>\n",
       "      <td>12.61</td>\n",
       "      <td>26.33</td>\n",
       "      <td>8.30</td>\n",
       "      <td>104.86</td>\n",
       "      <td>0.09</td>\n",
       "    </tr>\n",
       "    <tr>\n",
       "      <th>std</th>\n",
       "      <td>25.65</td>\n",
       "      <td>6.84</td>\n",
       "      <td>1.06</td>\n",
       "      <td>6.17</td>\n",
       "      <td>29.47</td>\n",
       "      <td>19.47</td>\n",
       "      <td>4.51</td>\n",
       "      <td>106.52</td>\n",
       "      <td>0.29</td>\n",
       "    </tr>\n",
       "    <tr>\n",
       "      <th>min</th>\n",
       "      <td>5.81</td>\n",
       "      <td>24.77</td>\n",
       "      <td>-1.88</td>\n",
       "      <td>-1.79</td>\n",
       "      <td>0.21</td>\n",
       "      <td>7.37</td>\n",
       "      <td>-3.14</td>\n",
       "      <td>-1.98</td>\n",
       "      <td>0.00</td>\n",
       "    </tr>\n",
       "    <tr>\n",
       "      <th>25%</th>\n",
       "      <td>100.93</td>\n",
       "      <td>42.38</td>\n",
       "      <td>0.03</td>\n",
       "      <td>-0.19</td>\n",
       "      <td>1.92</td>\n",
       "      <td>14.44</td>\n",
       "      <td>5.78</td>\n",
       "      <td>34.96</td>\n",
       "      <td>0.00</td>\n",
       "    </tr>\n",
       "    <tr>\n",
       "      <th>50%</th>\n",
       "      <td>115.08</td>\n",
       "      <td>46.95</td>\n",
       "      <td>0.22</td>\n",
       "      <td>0.20</td>\n",
       "      <td>2.80</td>\n",
       "      <td>18.46</td>\n",
       "      <td>8.43</td>\n",
       "      <td>83.07</td>\n",
       "      <td>0.00</td>\n",
       "    </tr>\n",
       "    <tr>\n",
       "      <th>75%</th>\n",
       "      <td>127.09</td>\n",
       "      <td>51.02</td>\n",
       "      <td>0.47</td>\n",
       "      <td>0.93</td>\n",
       "      <td>5.46</td>\n",
       "      <td>28.43</td>\n",
       "      <td>10.70</td>\n",
       "      <td>139.31</td>\n",
       "      <td>0.00</td>\n",
       "    </tr>\n",
       "    <tr>\n",
       "      <th>max</th>\n",
       "      <td>192.62</td>\n",
       "      <td>98.78</td>\n",
       "      <td>8.07</td>\n",
       "      <td>68.10</td>\n",
       "      <td>223.39</td>\n",
       "      <td>110.64</td>\n",
       "      <td>34.54</td>\n",
       "      <td>1191.00</td>\n",
       "      <td>1.00</td>\n",
       "    </tr>\n",
       "  </tbody>\n",
       "</table>\n",
       "</div>"
      ],
      "text/plain": [
       "       Mean of IP  STD of IP  Excess kurtosis of the IP  Skewness of the IP  \\\n",
       "count    17897.00   17897.00                   17897.00            17897.00   \n",
       "mean       111.08      46.55                       0.48                1.77   \n",
       "std         25.65       6.84                       1.06                6.17   \n",
       "min          5.81      24.77                      -1.88               -1.79   \n",
       "25%        100.93      42.38                       0.03               -0.19   \n",
       "50%        115.08      46.95                       0.22                0.20   \n",
       "75%        127.09      51.02                       0.47                0.93   \n",
       "max        192.62      98.78                       8.07               68.10   \n",
       "\n",
       "       Mean of the DM-SNR curve  STD of the DM-SNR CURVE  \\\n",
       "count                  17897.00                 17897.00   \n",
       "mean                      12.61                    26.33   \n",
       "std                       29.47                    19.47   \n",
       "min                        0.21                     7.37   \n",
       "25%                        1.92                    14.44   \n",
       "50%                        2.80                    18.46   \n",
       "75%                        5.46                    28.43   \n",
       "max                      223.39                   110.64   \n",
       "\n",
       "       EXCESS Kurtosis of the DM_SNR curve  Skewness of the DM-SNR curve  \\\n",
       "count                             17897.00                      17897.00   \n",
       "mean                                  8.30                        104.86   \n",
       "std                                   4.51                        106.52   \n",
       "min                                  -3.14                         -1.98   \n",
       "25%                                   5.78                         34.96   \n",
       "50%                                   8.43                         83.07   \n",
       "75%                                  10.70                        139.31   \n",
       "max                                  34.54                       1191.00   \n",
       "\n",
       "       target_class  \n",
       "count      17897.00  \n",
       "mean           0.09  \n",
       "std            0.29  \n",
       "min            0.00  \n",
       "25%            0.00  \n",
       "50%            0.00  \n",
       "75%            0.00  \n",
       "max            1.00  "
      ]
     },
     "execution_count": 91,
     "metadata": {},
     "output_type": "execute_result"
    }
   ],
   "source": [
    "# view summary statistics in numerical variables\n",
    "\n",
    "round(df_data.describe(),2)"
   ]
  },
  {
   "cell_type": "markdown",
   "id": "88a413bb",
   "metadata": {},
   "source": [
    "On closer inspection, we can suspect that all the continuous variables may contain outliers.\n",
    "\n",
    "I will draw boxplots to visualise outliers for the above variable."
   ]
  },
  {
   "cell_type": "code",
   "execution_count": 92,
   "id": "cf9828dd",
   "metadata": {},
   "outputs": [
    {
     "data": {
      "text/plain": [
       "Text(0, 0.5, 'Skewness of the DM-SNR curve')"
      ]
     },
     "execution_count": 92,
     "metadata": {},
     "output_type": "execute_result"
    },
    {
     "data": {
      "image/png": "[encoded data removed]",
      "text/plain": [
       "<Figure size 1728x1440 with 8 Axes>"
      ]
     },
     "metadata": {
      "needs_background": "light"
     },
     "output_type": "display_data"
    }
   ],
   "source": [
    "# draw boxplots to visualize outliers\n",
    "\n",
    "plt.figure(figsize=(24,20))\n",
    "\n",
    "\n",
    "plt.subplot(4, 2, 1)\n",
    "fig = df_data.boxplot(column='Mean of IP')\n",
    "fig.set_title('')\n",
    "fig.set_ylabel('Mean of IP')\n",
    "\n",
    "\n",
    "plt.subplot(4, 2, 2)\n",
    "fig = df_data.boxplot(column='STD of IP')\n",
    "fig.set_title('')\n",
    "fig.set_ylabel('STD of IP')\n",
    "\n",
    "\n",
    "plt.subplot(4, 2, 3)\n",
    "fig = df_data.boxplot(column='Excess kurtosis of the IP')\n",
    "fig.set_title('')\n",
    "fig.set_ylabel('Excess kurtosis of the IP')\n",
    "\n",
    "\n",
    "plt.subplot(4, 2, 4)\n",
    "fig = df_data.boxplot(column='Skewness of the IP')\n",
    "fig.set_title('')\n",
    "fig.set_ylabel('Skewness of the IP')\n",
    "\n",
    "\n",
    "plt.subplot(4, 2, 5)\n",
    "fig = df_data.boxplot(column='Mean of the DM-SNR curve')\n",
    "fig.set_title('')\n",
    "fig.set_ylabel('Mean of the DM-SNR curve')\n",
    "\n",
    "plt.subplot(4, 2, 6)\n",
    "fig = df_data.boxplot(column='STD of the DM-SNR CURVE')\n",
    "fig.set_title('')\n",
    "fig.set_ylabel('STD of the DM-SNR CURVE')\n",
    "\n",
    "\n",
    "plt.subplot(4, 2, 7)\n",
    "fig = df_data.boxplot(column='EXCESS Kurtosis of the DM_SNR curve')\n",
    "fig.set_title('')\n",
    "fig.set_ylabel('EXCESS Kurtosis of the DM_SNR curve')\n",
    "\n",
    "\n",
    "plt.subplot(4, 2, 8)\n",
    "fig = df_data.boxplot(column='Skewness of the DM-SNR curve')\n",
    "fig.set_title('')\n",
    "fig.set_ylabel('Skewness of the DM-SNR curve')"
   ]
  },
  {
   "cell_type": "markdown",
   "id": "3211b9c4",
   "metadata": {},
   "source": [
    "The above boxplots confirm that there are lot of outliers"
   ]
  },
  {
   "cell_type": "code",
   "execution_count": 93,
   "id": "2ffaa9f4",
   "metadata": {},
   "outputs": [
    {
     "data": {
      "text/plain": [
       "Text(0, 0.5, 'Number of pulsar stars')"
      ]
     },
     "execution_count": 93,
     "metadata": {},
     "output_type": "execute_result"
    },
    {
     "data": {
      "image/png": "[encoded data removed]",
      "text/plain": [
       "<Figure size 1728x1440 with 8 Axes>"
      ]
     },
     "metadata": {
      "needs_background": "light"
     },
     "output_type": "display_data"
    }
   ],
   "source": [
    "#Now, I will plot the histograms to check distributions to find out if they are normal or skewed.\n",
    "plt.figure(figsize=(24,20))\n",
    "\n",
    "\n",
    "plt.subplot(4, 2, 1)\n",
    "fig = df_data[\"Mean of IP\"].hist(bins=20)\n",
    "fig.set_xlabel('Mean of IP')\n",
    "fig.set_ylabel('Number of pulsar stars')\n",
    "\n",
    "\n",
    "plt.subplot(4, 2, 2)\n",
    "fig = df_data['STD of IP'].hist(bins=20)\n",
    "fig.set_xlabel('STD of IP')\n",
    "fig.set_ylabel('Number of pulsar stars')\n",
    "\n",
    "\n",
    "plt.subplot(4, 2, 3)\n",
    "fig = df_data['Excess kurtosis of the IP'].hist(bins=20)\n",
    "fig.set_xlabel('Excess kurtosis of the IP')\n",
    "fig.set_ylabel('Number of pulsar stars')\n",
    "\n",
    "plt.subplot(4, 2, 4)\n",
    "fig = df_data['Skewness of the IP'].hist(bins=20)\n",
    "fig.set_xlabel('Skewness of the IP')\n",
    "fig.set_ylabel('Number of pulsar stars')\n",
    "\n",
    "\n",
    "\n",
    "plt.subplot(4, 2, 5)\n",
    "fig = df_data[\"Mean of the DM-SNR curve\"].hist(bins=20)\n",
    "fig.set_xlabel('Mean of the DM-SNR curve')\n",
    "fig.set_ylabel('Number of pulsar stars')\n",
    "\n",
    "\n",
    "\n",
    "plt.subplot(4, 2, 6)\n",
    "fig = df_data['STD of the DM-SNR CURVE'].hist(bins=20)\n",
    "fig.set_xlabel('STD of the DM-SNR CURVE')\n",
    "fig.set_ylabel('Number of pulsar stars')\n",
    "\n",
    "\n",
    "plt.subplot(4, 2, 7)\n",
    "fig = df_data['EXCESS Kurtosis of the DM_SNR curve'].hist(bins=20)\n",
    "fig.set_xlabel('EXCESS Kurtosis of the DM_SNR curve')\n",
    "fig.set_ylabel('Number of pulsar stars')\n",
    "\n",
    "\n",
    "plt.subplot(4, 2, 8)\n",
    "fig = df_data['Skewness of the DM-SNR curve'].hist(bins=20)\n",
    "fig.set_xlabel('Skewness of the DM-SNR curve')\n",
    "fig.set_ylabel('Number of pulsar stars')"
   ]
  },
  {
   "cell_type": "markdown",
   "id": "f5fef7d7",
   "metadata": {},
   "source": [
    "We can see that all the 8 continuous variables are skewed."
   ]
  },
  {
   "cell_type": "markdown",
   "id": "1b493560",
   "metadata": {},
   "source": [
    "# Declare feature vector and target variable "
   ]
  },
  {
   "cell_type": "code",
   "execution_count": 94,
   "id": "d9df5602",
   "metadata": {},
   "outputs": [],
   "source": [
    "X = df_data.drop(['target_class'], axis=1)\n",
    "\n",
    "y = df_data['target_class']"
   ]
  },
  {
   "cell_type": "code",
   "execution_count": 95,
   "id": "ca0ff1da",
   "metadata": {},
   "outputs": [],
   "source": [
    "#Spliting the data into for model fitting\n",
    "from sklearn.model_selection import train_test_split\n",
    "\n",
    "X_train, X_test, y_train, y_test = train_test_split(X, y, test_size = 0.2, random_state = 0)\n"
   ]
  },
  {
   "cell_type": "code",
   "execution_count": 96,
   "id": "94e4dd95",
   "metadata": {},
   "outputs": [
    {
     "data": {
      "text/plain": [
       "((14317, 8), (3580, 8))"
      ]
     },
     "execution_count": 96,
     "metadata": {},
     "output_type": "execute_result"
    }
   ],
   "source": [
    "# check the shape of X_train and X_test\n",
    "\n",
    "X_train.shape, X_test.shape"
   ]
  },
  {
   "cell_type": "markdown",
   "id": "6dcc55e1",
   "metadata": {},
   "source": [
    "# Feature Scaling "
   ]
  },
  {
   "cell_type": "code",
   "execution_count": 97,
   "id": "f8d220ab",
   "metadata": {},
   "outputs": [],
   "source": [
    "cols = X_train.columns\n",
    "from sklearn.preprocessing import StandardScaler\n",
    "\n",
    "scaler = StandardScaler()\n",
    "\n",
    "X_train = scaler.fit_transform(X_train)\n",
    "\n",
    "X_test = scaler.transform(X_test)"
   ]
  },
  {
   "cell_type": "code",
   "execution_count": 98,
   "id": "bce2dd12",
   "metadata": {},
   "outputs": [],
   "source": [
    "X_train = pd.DataFrame(X_train, columns=[cols])"
   ]
  },
  {
   "cell_type": "code",
   "execution_count": 99,
   "id": "d908ff2b",
   "metadata": {},
   "outputs": [],
   "source": [
    "X_test = pd.DataFrame(X_test, columns=[cols])"
   ]
  },
  {
   "cell_type": "code",
   "execution_count": 100,
   "id": "36fc5243",
   "metadata": {},
   "outputs": [
    {
     "data": {
      "text/html": [
       "<div>\n",
       "<style scoped>\n",
       "    .dataframe tbody tr th:only-of-type {\n",
       "        vertical-align: middle;\n",
       "    }\n",
       "\n",
       "    .dataframe tbody tr th {\n",
       "        vertical-align: top;\n",
       "    }\n",
       "\n",
       "    .dataframe thead tr th {\n",
       "        text-align: left;\n",
       "    }\n",
       "</style>\n",
       "<table border=\"1\" class=\"dataframe\">\n",
       "  <thead>\n",
       "    <tr>\n",
       "      <th></th>\n",
       "      <th>Mean of IP</th>\n",
       "      <th>STD of IP</th>\n",
       "      <th>Excess kurtosis of the IP</th>\n",
       "      <th>Skewness of the IP</th>\n",
       "      <th>Mean of the DM-SNR curve</th>\n",
       "      <th>STD of the DM-SNR CURVE</th>\n",
       "      <th>EXCESS Kurtosis of the DM_SNR curve</th>\n",
       "      <th>Skewness of the DM-SNR curve</th>\n",
       "    </tr>\n",
       "  </thead>\n",
       "  <tbody>\n",
       "    <tr>\n",
       "      <th>count</th>\n",
       "      <td>1.431700e+04</td>\n",
       "      <td>1.431700e+04</td>\n",
       "      <td>1.431700e+04</td>\n",
       "      <td>1.431700e+04</td>\n",
       "      <td>1.431700e+04</td>\n",
       "      <td>1.431700e+04</td>\n",
       "      <td>1.431700e+04</td>\n",
       "      <td>1.431700e+04</td>\n",
       "    </tr>\n",
       "    <tr>\n",
       "      <th>mean</th>\n",
       "      <td>1.308197e-17</td>\n",
       "      <td>-3.185814e-16</td>\n",
       "      <td>-3.030489e-17</td>\n",
       "      <td>5.118797e-17</td>\n",
       "      <td>-1.645522e-17</td>\n",
       "      <td>5.341160e-17</td>\n",
       "      <td>5.208750e-17</td>\n",
       "      <td>-8.754919e-18</td>\n",
       "    </tr>\n",
       "    <tr>\n",
       "      <th>std</th>\n",
       "      <td>1.000035e+00</td>\n",
       "      <td>1.000035e+00</td>\n",
       "      <td>1.000035e+00</td>\n",
       "      <td>1.000035e+00</td>\n",
       "      <td>1.000035e+00</td>\n",
       "      <td>1.000035e+00</td>\n",
       "      <td>1.000035e+00</td>\n",
       "      <td>1.000035e+00</td>\n",
       "    </tr>\n",
       "    <tr>\n",
       "      <th>min</th>\n",
       "      <td>-4.072767e+00</td>\n",
       "      <td>-3.170722e+00</td>\n",
       "      <td>-2.203374e+00</td>\n",
       "      <td>-5.777289e-01</td>\n",
       "      <td>-4.214850e-01</td>\n",
       "      <td>-9.726198e-01</td>\n",
       "      <td>-2.538846e+00</td>\n",
       "      <td>-1.006208e+00</td>\n",
       "    </tr>\n",
       "    <tr>\n",
       "      <th>25%</th>\n",
       "      <td>-3.929717e-01</td>\n",
       "      <td>-6.147909e-01</td>\n",
       "      <td>-4.248982e-01</td>\n",
       "      <td>-3.196470e-01</td>\n",
       "      <td>-3.639005e-01</td>\n",
       "      <td>-6.104646e-01</td>\n",
       "      <td>-5.670462e-01</td>\n",
       "      <td>-6.619621e-01</td>\n",
       "    </tr>\n",
       "    <tr>\n",
       "      <th>50%</th>\n",
       "      <td>1.569246e-01</td>\n",
       "      <td>6.122118e-02</td>\n",
       "      <td>-2.423845e-01</td>\n",
       "      <td>-2.566054e-01</td>\n",
       "      <td>-3.343461e-01</td>\n",
       "      <td>-4.053591e-01</td>\n",
       "      <td>2.991320e-02</td>\n",
       "      <td>-2.050877e-01</td>\n",
       "    </tr>\n",
       "    <tr>\n",
       "      <th>75%</th>\n",
       "      <td>6.290424e-01</td>\n",
       "      <td>6.539127e-01</td>\n",
       "      <td>-5.210490e-03</td>\n",
       "      <td>-1.374950e-01</td>\n",
       "      <td>-2.429448e-01</td>\n",
       "      <td>1.109600e-01</td>\n",
       "      <td>5.356614e-01</td>\n",
       "      <td>3.284876e-01</td>\n",
       "    </tr>\n",
       "    <tr>\n",
       "      <th>max</th>\n",
       "      <td>3.163650e+00</td>\n",
       "      <td>7.623202e+00</td>\n",
       "      <td>7.081486e+00</td>\n",
       "      <td>1.067049e+01</td>\n",
       "      <td>7.113110e+00</td>\n",
       "      <td>4.316887e+00</td>\n",
       "      <td>5.821428e+00</td>\n",
       "      <td>1.022166e+01</td>\n",
       "    </tr>\n",
       "  </tbody>\n",
       "</table>\n",
       "</div>"
      ],
      "text/plain": [
       "         Mean of IP     STD of IP Excess kurtosis of the IP  \\\n",
       "count  1.431700e+04  1.431700e+04              1.431700e+04   \n",
       "mean   1.308197e-17 -3.185814e-16             -3.030489e-17   \n",
       "std    1.000035e+00  1.000035e+00              1.000035e+00   \n",
       "min   -4.072767e+00 -3.170722e+00             -2.203374e+00   \n",
       "25%   -3.929717e-01 -6.147909e-01             -4.248982e-01   \n",
       "50%    1.569246e-01  6.122118e-02             -2.423845e-01   \n",
       "75%    6.290424e-01  6.539127e-01             -5.210490e-03   \n",
       "max    3.163650e+00  7.623202e+00              7.081486e+00   \n",
       "\n",
       "      Skewness of the IP Mean of the DM-SNR curve STD of the DM-SNR CURVE  \\\n",
       "count       1.431700e+04             1.431700e+04            1.431700e+04   \n",
       "mean        5.118797e-17            -1.645522e-17            5.341160e-17   \n",
       "std         1.000035e+00             1.000035e+00            1.000035e+00   \n",
       "min        -5.777289e-01            -4.214850e-01           -9.726198e-01   \n",
       "25%        -3.196470e-01            -3.639005e-01           -6.104646e-01   \n",
       "50%        -2.566054e-01            -3.343461e-01           -4.053591e-01   \n",
       "75%        -1.374950e-01            -2.429448e-01            1.109600e-01   \n",
       "max         1.067049e+01             7.113110e+00            4.316887e+00   \n",
       "\n",
       "      EXCESS Kurtosis of the DM_SNR curve Skewness of the DM-SNR curve  \n",
       "count                        1.431700e+04                 1.431700e+04  \n",
       "mean                         5.208750e-17                -8.754919e-18  \n",
       "std                          1.000035e+00                 1.000035e+00  \n",
       "min                         -2.538846e+00                -1.006208e+00  \n",
       "25%                         -5.670462e-01                -6.619621e-01  \n",
       "50%                          2.991320e-02                -2.050877e-01  \n",
       "75%                          5.356614e-01                 3.284876e-01  \n",
       "max                          5.821428e+00                 1.022166e+01  "
      ]
     },
     "execution_count": 100,
     "metadata": {},
     "output_type": "execute_result"
    }
   ],
   "source": [
    "X_train.describe()"
   ]
  },
  {
   "cell_type": "code",
   "execution_count": 101,
   "id": "a9ca2d66",
   "metadata": {},
   "outputs": [
    {
     "name": "stdout",
     "output_type": "stream",
     "text": [
      "0.9807262569832402\n"
     ]
    }
   ],
   "source": [
    "#Implementing Logistic Regression\n",
    "from sklearn.linear_model import LogisticRegression\n",
    "model = LogisticRegression()\n",
    "model.fit(X_train,y_train)\n",
    "y_prediction = model.predict(X_test)\n",
    "#Printing the Accuracy Score\n",
    "print(accuracy_score(y_test,y_prediction))"
   ]
  },
  {
   "cell_type": "code",
   "execution_count": 102,
   "id": "9e8d94c9",
   "metadata": {},
   "outputs": [
    {
     "name": "stdout",
     "output_type": "stream",
     "text": [
      "0.019273743016759777\n"
     ]
    }
   ],
   "source": [
    "#printing the MMSE\n",
    "print(mean_squared_error(y_test,y_prediction))\n"
   ]
  },
  {
   "cell_type": "code",
   "execution_count": 135,
   "id": "42bc5e37",
   "metadata": {},
   "outputs": [
    {
     "name": "stdout",
     "output_type": "stream",
     "text": [
      "[[3257   20]\n",
      " [  49  254]]\n"
     ]
    }
   ],
   "source": [
    "#print the confusion matrix\n",
    "print(confusion_matrix(y_test,y_prediction))"
   ]
  },
  {
   "cell_type": "code",
   "execution_count": 103,
   "id": "5de11c31",
   "metadata": {},
   "outputs": [
    {
     "name": "stdout",
     "output_type": "stream",
     "text": [
      "[[3257   20]\n",
      " [  49  254]]\n",
      "              precision    recall  f1-score   support\n",
      "\n",
      "           0       0.99      0.99      0.99      3277\n",
      "           1       0.93      0.84      0.88       303\n",
      "\n",
      "    accuracy                           0.98      3580\n",
      "   macro avg       0.96      0.92      0.93      3580\n",
      "weighted avg       0.98      0.98      0.98      3580\n",
      "\n"
     ]
    }
   ],
   "source": [
    "#print the Classification Report\n",
    "print(classification_report(y_test,lr_prediction))"
   ]
  },
  {
   "cell_type": "code",
   "execution_count": 104,
   "id": "4c5dea98",
   "metadata": {},
   "outputs": [
    {
     "data": {
      "image/png": "[encoded data removed]",
      "text/plain": [
       "<Figure size 432x288 with 1 Axes>"
      ]
     },
     "metadata": {
      "needs_background": "light"
     },
     "output_type": "display_data"
    }
   ],
   "source": [
    "#Implementing K-NEAREST NEIGHBOUR(KNN) CLASSIFICATION\n",
    "from sklearn.neighbors import KNeighborsClassifier\n",
    "knn = KNeighborsClassifier(n_neighbors =13) # n_neighbors = k\n",
    "knn.fit(X_train,y_train)\n",
    "knn_prediction = knn.predict(X_test)\n",
    "score_list = []\n",
    "for each in range(1,15):\n",
    "    knn2 = KNeighborsClassifier(n_neighbors = each)\n",
    "    knn2.fit(X_train,y_train)\n",
    "    score_list.append(knn2.score(X_test,y_test))\n",
    "    \n",
    "plt.plot(range(1,15),score_list)\n",
    "plt.xlabel(\"k values\")\n",
    "plt.ylabel(\"accuracy\")\n",
    "plt.show()"
   ]
  },
  {
   "cell_type": "code",
   "execution_count": 105,
   "id": "294794ec",
   "metadata": {},
   "outputs": [
    {
     "name": "stdout",
     "output_type": "stream",
     "text": [
      "0.9793296089385475\n"
     ]
    }
   ],
   "source": [
    "#Printing the Accuracy Score\n",
    "print(accuracy_score(y_test,knn_prediction))"
   ]
  },
  {
   "cell_type": "code",
   "execution_count": 106,
   "id": "65a9d816",
   "metadata": {},
   "outputs": [
    {
     "name": "stdout",
     "output_type": "stream",
     "text": [
      "[[3255   22]\n",
      " [  52  251]]\n"
     ]
    }
   ],
   "source": [
    "#print the confusion matrix\n",
    "print(confusion_matrix(y_test,knn_prediction))\n"
   ]
  },
  {
   "cell_type": "code",
   "execution_count": 107,
   "id": "aa231405",
   "metadata": {},
   "outputs": [
    {
     "name": "stdout",
     "output_type": "stream",
     "text": [
      "              precision    recall  f1-score   support\n",
      "\n",
      "           0       0.98      0.99      0.99      3277\n",
      "           1       0.92      0.83      0.87       303\n",
      "\n",
      "    accuracy                           0.98      3580\n",
      "   macro avg       0.95      0.91      0.93      3580\n",
      "weighted avg       0.98      0.98      0.98      3580\n",
      "\n"
     ]
    }
   ],
   "source": [
    "#print the Classification Report\n",
    "print(classification_report(y_test,knn_prediction))"
   ]
  },
  {
   "cell_type": "code",
   "execution_count": 108,
   "id": "7ea5b0e7",
   "metadata": {},
   "outputs": [],
   "source": [
    "#Implementing NAIVE BAYES CLASSIFICATION\n",
    "from sklearn.naive_bayes import GaussianNB\n",
    "nb=GaussianNB()\n",
    "nb.fit(X_train,y_train)\n",
    "prediction_nb=nb.predict(X_test)"
   ]
  },
  {
   "cell_type": "code",
   "execution_count": 109,
   "id": "f2b9cee8",
   "metadata": {},
   "outputs": [
    {
     "name": "stdout",
     "output_type": "stream",
     "text": [
      "0.9497206703910615\n"
     ]
    }
   ],
   "source": [
    "print(accuracy_score(y_test,prediction_nb))"
   ]
  },
  {
   "cell_type": "code",
   "execution_count": 110,
   "id": "12b44860",
   "metadata": {},
   "outputs": [
    {
     "name": "stdout",
     "output_type": "stream",
     "text": [
      "              precision    recall  f1-score   support\n",
      "\n",
      "           0       0.99      0.96      0.97      3277\n",
      "           1       0.66      0.85      0.74       303\n",
      "\n",
      "    accuracy                           0.95      3580\n",
      "   macro avg       0.82      0.91      0.86      3580\n",
      "weighted avg       0.96      0.95      0.95      3580\n",
      "\n"
     ]
    }
   ],
   "source": [
    "print(classification_report(y_test,prediction_nb))"
   ]
  },
  {
   "cell_type": "code",
   "execution_count": 111,
   "id": "84d1b27a",
   "metadata": {},
   "outputs": [
    {
     "name": "stdout",
     "output_type": "stream",
     "text": [
      "[[3141  136]\n",
      " [  44  259]]\n"
     ]
    }
   ],
   "source": [
    "print(confusion_matrix(y_test,prediction_nb))"
   ]
  },
  {
   "cell_type": "markdown",
   "id": "d33b6085",
   "metadata": {},
   "source": [
    "# Implementing SVM with default hyperparameters \n",
    "\n",
    "\n",
    "Default hyperparameter means C=1.0, kernel=rbf and gamma=auto among other parameters."
   ]
  },
  {
   "cell_type": "code",
   "execution_count": 112,
   "id": "858041e1",
   "metadata": {},
   "outputs": [
    {
     "name": "stdout",
     "output_type": "stream",
     "text": [
      "Model accuracy score with default hyperparameters: 0.9799\n"
     ]
    }
   ],
   "source": [
    "\n",
    "\n",
    "# import SVC classifier\n",
    "from sklearn.svm import SVC\n",
    "\n",
    "\n",
    "# import metrics to compute accuracy\n",
    "from sklearn.metrics import accuracy_score\n",
    "\n",
    "\n",
    "# instantiate classifier with default hyperparameters\n",
    "svc=SVC() \n",
    "\n",
    "\n",
    "# fit classifier to training set\n",
    "svc.fit(X_train,y_train)\n",
    "\n",
    "\n",
    "# make predictions on test set\n",
    "y_pred=svc.predict(X_test)\n",
    "\n",
    "\n",
    "# compute and print accuracy score\n",
    "print('Model accuracy score with default hyperparameters: {0:0.4f}'. format(accuracy_score(y_test, y_pred)))"
   ]
  },
  {
   "cell_type": "markdown",
   "id": "f22fd854",
   "metadata": {},
   "source": [
    "We have seen that there are outliers in our dataset. So, we should increase the value of C as higher C means fewer outliers. So, I will run SVM with kernel=rbf and C=100.0"
   ]
  },
  {
   "cell_type": "code",
   "execution_count": 117,
   "id": "e3eeed21",
   "metadata": {},
   "outputs": [
    {
     "name": "stdout",
     "output_type": "stream",
     "text": [
      "Model accuracy score with rbf kernel and C=100.0 : 0.9799\n"
     ]
    }
   ],
   "source": [
    "# instantiate classifier with rbf kernel and C=100\n",
    "svc=SVC(C=100.0) \n",
    "# fit classifier to training set\n",
    "svc.fit(X_train,y_train)\n",
    "# make predictions on test set\n",
    "y_pred=svc.predict(X_test)\n",
    "# compute and print accuracy score\n",
    "print('Model accuracy score with rbf kernel and C=100.0 : {0:0.4f}'. format(accuracy_score(y_test, y_pred)))"
   ]
  },
  {
   "cell_type": "markdown",
   "id": "d0a799d0",
   "metadata": {},
   "source": [
    "We can see that we obtain a higher accuracy with C=100.0 as higher C means less outliers.\n",
    "\n",
    "Now, I will further increase the value of C=1000.0 and check accuracy."
   ]
  },
  {
   "cell_type": "code",
   "execution_count": 118,
   "id": "9654205d",
   "metadata": {},
   "outputs": [
    {
     "name": "stdout",
     "output_type": "stream",
     "text": [
      "Model accuracy score with rbf kernel and C=1000.0 : 0.9782\n"
     ]
    }
   ],
   "source": [
    "# instantiate classifier with rbf kernel and C=1000\n",
    "svc=SVC(C=1000.0) \n",
    "\n",
    "\n",
    "# fit classifier to training set\n",
    "svc.fit(X_train,y_train)\n",
    "\n",
    "\n",
    "# make predictions on test set\n",
    "y_pred=svc.predict(X_test)\n",
    "\n",
    "\n",
    "# compute and print accuracy score\n",
    "print('Model accuracy score with rbf kernel and C=1000.0 : {0:0.4f}'. format(accuracy_score(y_test, y_pred)))"
   ]
  },
  {
   "cell_type": "markdown",
   "id": "ecb4303c",
   "metadata": {},
   "source": [
    "In this case, we can see that the accuracy had decreased with C=1000.0"
   ]
  },
  {
   "cell_type": "markdown",
   "id": "0c4abe28",
   "metadata": {},
   "source": [
    "# Implement SVM with linear kernel and C=1.0"
   ]
  },
  {
   "cell_type": "code",
   "execution_count": 114,
   "id": "da25f16f",
   "metadata": {},
   "outputs": [
    {
     "name": "stdout",
     "output_type": "stream",
     "text": [
      "Model accuracy score with linear kernel and C=1.0 : 0.9799\n"
     ]
    }
   ],
   "source": [
    "# instantiate classifier with linear kernel and C=1.0\n",
    "linear_svc=SVC(kernel='linear', C=1.0) \n",
    "\n",
    "\n",
    "# fit classifier to training set\n",
    "linear_svc.fit(X_train,y_train)\n",
    "\n",
    "\n",
    "# make predictions on test set\n",
    "y_pred_test=linear_svc.predict(X_test)\n",
    "\n",
    "\n",
    "# compute and print accuracy score\n",
    "print('Model accuracy score with linear kernel and C=1.0 : {0:0.4f}'. format(accuracy_score(y_test, y_pred_test)))"
   ]
  },
  {
   "cell_type": "code",
   "execution_count": 115,
   "id": "d6abd5a1",
   "metadata": {},
   "outputs": [
    {
     "name": "stdout",
     "output_type": "stream",
     "text": [
      "Model accuracy score with linear kernel and C=100.0 : 0.9807\n"
     ]
    }
   ],
   "source": [
    "# instantiate classifier with linear kernel and C=100.0\n",
    "linear_svc100=SVC(kernel='linear', C=100.0) \n",
    "\n",
    "\n",
    "# fit classifier to training set\n",
    "linear_svc100.fit(X_train, y_train)\n",
    "\n",
    "\n",
    "# make predictions on test set\n",
    "y_pred=linear_svc100.predict(X_test)\n",
    "\n",
    "\n",
    "# compute and print accuracy score\n",
    "print('Model accuracy score with linear kernel and C=100.0 : {0:0.4f}'. format(accuracy_score(y_test, y_pred)))"
   ]
  },
  {
   "cell_type": "code",
   "execution_count": 119,
   "id": "b3585b48",
   "metadata": {},
   "outputs": [
    {
     "name": "stdout",
     "output_type": "stream",
     "text": [
      "Model accuracy score with linear kernel and C=1000.0 : 0.9807\n"
     ]
    }
   ],
   "source": [
    "# instantiate classifier with linear kernel and C=1000.0\n",
    "linear_svc1000=SVC(kernel='linear', C=1000.0) \n",
    "\n",
    "\n",
    "# fit classifier to training set\n",
    "linear_svc1000.fit(X_train, y_train)\n",
    "\n",
    "\n",
    "# make predictions on test set\n",
    "y_pred=linear_svc1000.predict(X_test)\n",
    "\n",
    "\n",
    "# compute and print accuracy score\n",
    "print('Model accuracy score with linear kernel and C=1000.0 : {0:0.4f}'. format(accuracy_score(y_test, y_pred)))"
   ]
  },
  {
   "cell_type": "markdown",
   "id": "42ca01f2",
   "metadata": {},
   "source": [
    "We can see that we can obtain higher accuracy with C=100.0 and C=1000.0 as compared to C=1.0.\n",
    "\n",
    "Here, y_test are the true class labels and y_pred are the predicted class labels in the test-set."
   ]
  },
  {
   "cell_type": "markdown",
   "id": "5baf6933",
   "metadata": {},
   "source": [
    "# Validate the performance of SVM Model"
   ]
  },
  {
   "cell_type": "code",
   "execution_count": 121,
   "id": "8c703138",
   "metadata": {},
   "outputs": [
    {
     "name": "stdout",
     "output_type": "stream",
     "text": [
      "Train accuracy 0.9790458895019907\n",
      "Test accuracy  0.9798882681564246\n"
     ]
    }
   ],
   "source": [
    "#Check for overfitting and underfitting\n",
    "print('Train accuracy {}'.format(linear_svc.score(X_train, y_train)))\n",
    "print('Test accuracy  {}'.format(linear_svc.score(X_test, y_test)))"
   ]
  },
  {
   "cell_type": "markdown",
   "id": "ae1b0aef",
   "metadata": {},
   "source": [
    "The training-set accuracy score is 0.9790 while the test-set accuracy to be 0.9799. These two values are quite comparable. So, there is no question of overfitting.\n",
    "\n",
    "​"
   ]
  },
  {
   "cell_type": "markdown",
   "id": "338c1144",
   "metadata": {},
   "source": [
    "# Implementing SVM with polynomial kernel"
   ]
  },
  {
   "cell_type": "code",
   "execution_count": 122,
   "id": "931dbabf",
   "metadata": {
    "scrolled": true
   },
   "outputs": [
    {
     "name": "stdout",
     "output_type": "stream",
     "text": [
      "Model accuracy score with polynomial kernel and C=1.0 : 0.9793\n"
     ]
    }
   ],
   "source": [
    "# instantiate classifier with polynomial kernel and C=1.0\n",
    "poly_svc=SVC(kernel='poly', C=1.0) \n",
    "\n",
    "\n",
    "# fit classifier to training set\n",
    "poly_svc.fit(X_train,y_train)\n",
    "\n",
    "\n",
    "# make predictions on test set\n",
    "y_pred=poly_svc.predict(X_test)\n",
    "\n",
    "\n",
    "# compute and print accuracy score\n",
    "print('Model accuracy score with polynomial kernel and C=1.0 : {0:0.4f}'. format(accuracy_score(y_test, y_pred)))"
   ]
  },
  {
   "cell_type": "code",
   "execution_count": 124,
   "id": "a68d71b7",
   "metadata": {},
   "outputs": [
    {
     "name": "stdout",
     "output_type": "stream",
     "text": [
      "Model accuracy score with polynomial kernel and C=1.0 : 0.9793\n"
     ]
    }
   ],
   "source": [
    "# instantiate classifier with polynomial kernel and C=100.0\n",
    "poly_svc100=SVC(kernel='poly', C=100.0) \n",
    "\n",
    "\n",
    "# fit classifier to training set\n",
    "poly_svc100.fit(X_train, y_train)\n",
    "\n",
    "\n",
    "# make predictions on test set\n",
    "y_pred=poly_svc100.predict(X_test)\n",
    "\n",
    "\n",
    "# compute and print accuracy score\n",
    "print('Model accuracy score with polynomial kernel and C=1.0 : {0:0.4f}'. format(accuracy_score(y_test, y_pred)))"
   ]
  },
  {
   "cell_type": "markdown",
   "id": "6de78222",
   "metadata": {},
   "source": [
    "Polynomial kernel gives poor performance. It may be overfitting the training set."
   ]
  },
  {
   "cell_type": "markdown",
   "id": "e414e88a",
   "metadata": {},
   "source": [
    "# implementing SVM with sigmoid kernel"
   ]
  },
  {
   "cell_type": "code",
   "execution_count": 125,
   "id": "9a5a2d66",
   "metadata": {},
   "outputs": [
    {
     "name": "stdout",
     "output_type": "stream",
     "text": [
      "Model accuracy score with sigmoid kernel and C=1.0 : 0.8858\n"
     ]
    }
   ],
   "source": [
    "# instantiate classifier with sigmoid kernel and C=1.0\n",
    "sigmoid_svc=SVC(kernel='sigmoid', C=1.0) \n",
    "\n",
    "\n",
    "# fit classifier to training set\n",
    "sigmoid_svc.fit(X_train,y_train)\n",
    "\n",
    "\n",
    "# make predictions on test set\n",
    "y_pred=sigmoid_svc.predict(X_test)\n",
    "\n",
    "\n",
    "# compute and print accuracy score\n",
    "print('Model accuracy score with sigmoid kernel and C=1.0 : {0:0.4f}'. format(accuracy_score(y_test, y_pred)))"
   ]
  },
  {
   "cell_type": "code",
   "execution_count": 126,
   "id": "02af1b21",
   "metadata": {},
   "outputs": [
    {
     "name": "stdout",
     "output_type": "stream",
     "text": [
      "Model accuracy score with sigmoid kernel and C=100.0 : 0.8860\n"
     ]
    }
   ],
   "source": [
    "# instantiate classifier with sigmoid kernel and C=100.0\n",
    "sigmoid_svc100=SVC(kernel='sigmoid', C=100.0) \n",
    "\n",
    "\n",
    "# fit classifier to training set\n",
    "sigmoid_svc100.fit(X_train,y_train)\n",
    "\n",
    "\n",
    "# make predictions on test set\n",
    "y_pred=sigmoid_svc100.predict(X_test)\n",
    "\n",
    "\n",
    "# compute and print accuracy score\n",
    "print('Model accuracy score with sigmoid kernel and C=100.0 : {0:0.4f}'. format(accuracy_score(y_test, y_pred)))"
   ]
  },
  {
   "cell_type": "markdown",
   "id": "ba224fc7",
   "metadata": {},
   "source": [
    "We can see that sigmoid kernel is also performing poorly just like with polynomial kernel."
   ]
  },
  {
   "cell_type": "markdown",
   "id": "20f0dbc7",
   "metadata": {},
   "source": [
    "# Comments\n",
    "\n",
    "We get maximum accuracy with rbf and linear kernel with C=100.0. and the accuracy is 0.9807. Based on the above analysis we can conclude that our classification model accuracy is very good. Our model is doing a very good job in terms of predicting the class labels.\n",
    "\n",
    "But, this is not true. Here, we have an imbalanced dataset. The problem is that accuracy is an inadequate measure for quantifying predictive performance in the imbalanced dataset problem.\n",
    "\n",
    "So, we must explore alternative metrices that provide better guidance in selecting models. In particular, we would like to know the underlying distribution of values and the type of errors our classifer is making.\n",
    "\n",
    "Such metric to analyze the model performance in imbalanced classes problem is Confusion matrix and Classification Report."
   ]
  },
  {
   "cell_type": "code",
   "execution_count": 128,
   "id": "ef31a250",
   "metadata": {},
   "outputs": [],
   "source": [
    "# instantiate classifier with linear kernel and C=100.0\n",
    "linear_svc100=SVC(kernel='linear', C=100.0) \n",
    "\n",
    "\n",
    "# fit classifier to training set\n",
    "linear_svc100.fit(X_train, y_train)\n",
    "\n",
    "\n",
    "# make predictions on test set\n",
    "y_pred=linear_svc100.predict(X_test)"
   ]
  },
  {
   "cell_type": "code",
   "execution_count": 130,
   "id": "9206d079",
   "metadata": {},
   "outputs": [
    {
     "name": "stdout",
     "output_type": "stream",
     "text": [
      "Confusion matrix\n",
      "\n",
      " [[3257   20]\n",
      " [  49  254]]\n",
      "\n",
      "True Positives(TP) =  3257\n",
      "\n",
      "True Negatives(TN) =  254\n",
      "\n",
      "False Positives(FP) =  20\n",
      "\n",
      "False Negatives(FN) =  49\n"
     ]
    }
   ],
   "source": [
    "#Printing the confusion Matrix\n",
    "model=confusion_matrix(y_test,y_pred)\n",
    "print('Confusion matrix\\n\\n', model)\n",
    "\n",
    "print('\\nTrue Positives(TP) = ', model[0,0])\n",
    "\n",
    "print('\\nTrue Negatives(TN) = ', model[1,1])\n",
    "\n",
    "print('\\nFalse Positives(FP) = ', model[0,1])\n",
    "\n",
    "print('\\nFalse Negatives(FN) = ', model[1,0])"
   ]
  },
  {
   "cell_type": "markdown",
   "id": "81f74e34",
   "metadata": {},
   "source": [
    "The confusion matrix shows 3257 + 254 = 3511 correct predictions and 20 + 49 = 69 incorrect predictions"
   ]
  },
  {
   "cell_type": "code",
   "execution_count": 133,
   "id": "9248a7d9",
   "metadata": {},
   "outputs": [
    {
     "data": {
      "text/plain": [
       "<AxesSubplot:>"
      ]
     },
     "execution_count": 133,
     "metadata": {},
     "output_type": "execute_result"
    },
    {
     "data": {
      "image/png": "[encoded data removed]",
      "text/plain": [
       "<Figure size 432x288 with 2 Axes>"
      ]
     },
     "metadata": {
      "needs_background": "light"
     },
     "output_type": "display_data"
    }
   ],
   "source": [
    "# visualize confusion matrix with seaborn heatmap\n",
    "\n",
    "model_graph= pd.DataFrame(data=model, columns=['Actual Positive:1', 'Actual Negative:0'], \n",
    "                                 index=['Predict Positive:1', 'Predict Negative:0'])\n",
    "\n",
    "sns.heatmap(model_graph, annot=True, fmt='d', cmap='nipy_spectral_r')"
   ]
  },
  {
   "cell_type": "code",
   "execution_count": 134,
   "id": "e48c8105",
   "metadata": {},
   "outputs": [
    {
     "name": "stdout",
     "output_type": "stream",
     "text": [
      "              precision    recall  f1-score   support\n",
      "\n",
      "           0       0.99      0.99      0.99      3277\n",
      "           1       0.93      0.84      0.88       303\n",
      "\n",
      "    accuracy                           0.98      3580\n",
      "   macro avg       0.96      0.92      0.93      3580\n",
      "weighted avg       0.98      0.98      0.98      3580\n",
      "\n"
     ]
    }
   ],
   "source": [
    "print(classification_report(y_test, y_pred))"
   ]
  },
  {
   "cell_type": "code",
   "execution_count": null,
   "id": "c33a3b0a",
   "metadata": {},
   "outputs": [],
   "source": []
  }
 ],
 "metadata": {
  "kernelspec": {
   "display_name": "Python 3 (ipykernel)",
   "language": "python",
   "name": "python3"
  },
  "language_info": {
   "codemirror_mode": {
    "name": "ipython",
    "version": 3
   },
   "file_extension": ".py",
   "mimetype": "text/x-python",
   "name": "python",
   "nbconvert_exporter": "python",
   "pygments_lexer": "ipython3",
   "version": "3.9.7"
  }
 },
 "nbformat": 4,
 "nbformat_minor": 5
}
